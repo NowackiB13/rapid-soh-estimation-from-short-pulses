{
 "cells": [
  {
   "cell_type": "code",
   "execution_count": 1,
   "metadata": {},
   "outputs": [],
   "source": [
    "import os\n",
    "os.chdir('..')\n",
    "from rapid_soh_estimation.rapid_soh_estimation.config import *\n"
   ]
  },
  {
   "cell_type": "code",
   "execution_count": null,
   "metadata": {},
   "outputs": [],
   "source": [
    "temp_path = dir_processed_data.joinpath('rpt_data', 'rpt_cell_02.pkl')\n",
    "df = pickle.load(open(temp_path, 'rb'))\n",
    "\n",
    "for rpt_num in sorted(df['RPT Number'].unique()):\n",
    "\tdf_filt = df.loc[(df['Segment Key'] == 'slowpulse') & \\\n",
    "\t\t\t\t\t(df['Pulse Type'] == 'chg') & \\\n",
    "\t\t\t\t\t(df['Pulse SOC'] == 20) & \\\n",
    "\t\t\t\t\t(df['RPT Number'] == rpt_num)]\n",
    "\tplt.plot(df_filt['Time (s)'].values - df_filt['Time (s)'].values[0], \n",
    "\t\t\tdf_filt['Voltage (V)'], '.')\n",
    "plt.show()"
   ]
  },
  {
   "cell_type": "code",
   "execution_count": 49,
   "metadata": {},
   "outputs": [],
   "source": [
    "\n",
    "\n",
    "\n",
    "\n",
    "\n"
   ]
  },
  {
   "cell_type": "code",
   "execution_count": null,
   "metadata": {},
   "outputs": [],
   "source": [
    "rpt_data"
   ]
  }
 ],
 "metadata": {
  "kernelspec": {
   "display_name": "envRapidSOH",
   "language": "python",
   "name": "python3"
  },
  "language_info": {
   "codemirror_mode": {
    "name": "ipython",
    "version": 3
   },
   "file_extension": ".py",
   "mimetype": "text/x-python",
   "name": "python",
   "nbconvert_exporter": "python",
   "pygments_lexer": "ipython3",
   "version": "3.11.5"
  }
 },
 "nbformat": 4,
 "nbformat_minor": 2
}
